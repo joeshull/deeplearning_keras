{
 "cells": [
  {
   "cell_type": "code",
   "execution_count": 38,
   "metadata": {},
   "outputs": [],
   "source": [
    "import keras\n",
    "from keras.datasets import imdb\n",
    "from keras import models\n",
    "from keras import layers\n",
    "import numpy as np \n",
    "import matplotlib.pyplot as plt\n",
    "import pandas as pd"
   ]
  },
  {
   "cell_type": "code",
   "execution_count": 9,
   "metadata": {},
   "outputs": [],
   "source": [
    "(X_train, y_train), (X_test, y_test) = imdb.load_data(num_words=10000)"
   ]
  },
  {
   "cell_type": "code",
   "execution_count": 22,
   "metadata": {},
   "outputs": [],
   "source": [
    "word_index = imdb.get_word_index()\n",
    "reverse_word_index = dict([(value,key) for (key,value) in word_index.items()])"
   ]
  },
  {
   "cell_type": "code",
   "execution_count": 24,
   "metadata": {},
   "outputs": [],
   "source": [
    "decoded_review = ' '.join([reverse_word_index.get(i-3, '?') for i in X_train[0]])"
   ]
  },
  {
   "cell_type": "code",
   "execution_count": 25,
   "metadata": {},
   "outputs": [
    {
     "data": {
      "text/plain": [
       "\"? this film was just brilliant casting location scenery story direction everyone's really suited the part they played and you could just imagine being there robert ? is an amazing actor and now the same being director ? father came from the same scottish island as myself so i loved the fact there was a real connection with this film the witty remarks throughout the film were great it was just brilliant so much that i bought the film as soon as it was released for ? and would recommend it to everyone to watch and the fly fishing was amazing really cried at the end it was so sad and you know what they say if you cry at a film it must have been good and this definitely was also ? to the two little boy's that played the ? of norman and paul they were just brilliant children are often left out of the ? list i think because the stars that play them all grown up are such a big profile for the whole film but these children are amazing and should be praised for what they have done don't you think the whole story was so lovely because it was true and was someone's life after all that was shared with us all\""
      ]
     },
     "execution_count": 25,
     "metadata": {},
     "output_type": "execute_result"
    }
   ],
   "source": [
    "decoded_review"
   ]
  },
  {
   "cell_type": "code",
   "execution_count": 26,
   "metadata": {},
   "outputs": [],
   "source": [
    "def vectorize_sequences(sequences, dimension=10000):\n",
    "    results = np.zeros((len(sequences), dimension))\n",
    "    for i, sequence in enumerate(sequences):\n",
    "        results[i, sequence] = 1\n",
    "    return results"
   ]
  },
  {
   "cell_type": "code",
   "execution_count": 27,
   "metadata": {},
   "outputs": [],
   "source": [
    "X_train = vectorize_sequences(X_train)\n",
    "X_test = vectorize_sequences(X_test)"
   ]
  },
  {
   "cell_type": "code",
   "execution_count": 32,
   "metadata": {},
   "outputs": [],
   "source": [
    "y_train = np.asarray(y_train).astype('float32')\n",
    "y_test = np.asarray(y_test).astype('float32')"
   ]
  },
  {
   "cell_type": "code",
   "execution_count": 93,
   "metadata": {},
   "outputs": [],
   "source": [
    "def build_model_1():\n",
    "    m = models.Sequential()\n",
    "    m.add(layers.Dense(16,activation='relu', input_shape=(10000,)))\n",
    "    m.add(layers.Dense(16, activation='relu'))\n",
    "    m.add(layers.Dense(1, activation='sigmoid'))\n",
    "    rmsprop = keras.optimizers.RMSprop(lr=0.001)\n",
    "    m.compile(optimizer=rmsprop, loss=keras.losses.binary_crossentropy, metrics=[keras.metrics.binary_accuracy])\n",
    "    return m"
   ]
  },
  {
   "cell_type": "code",
   "execution_count": 45,
   "metadata": {},
   "outputs": [],
   "source": [
    "X_val = X_train[:10000]\n",
    "p_X_train = X_train[10000:]\n",
    "y_val = y_train[:10000]\n",
    "p_y_train = y_train[10000:]"
   ]
  },
  {
   "cell_type": "code",
   "execution_count": 94,
   "metadata": {},
   "outputs": [],
   "source": [
    "#Get the model\n",
    "model = build_model_1()"
   ]
  },
  {
   "cell_type": "code",
   "execution_count": 47,
   "metadata": {},
   "outputs": [
    {
     "name": "stdout",
     "output_type": "stream",
     "text": [
      "Train on 15000 samples, validate on 10000 samples\n",
      "Epoch 1/20\n",
      "15000/15000 [==============================] - 2s 122us/step - loss: 0.5223 - binary_accuracy: 0.7747 - val_loss: 0.3959 - val_binary_accuracy: 0.8592\n",
      "Epoch 2/20\n",
      "15000/15000 [==============================] - 1s 76us/step - loss: 0.3142 - binary_accuracy: 0.9003 - val_loss: 0.3118 - val_binary_accuracy: 0.8844\n",
      "Epoch 3/20\n",
      "15000/15000 [==============================] - 1s 76us/step - loss: 0.2307 - binary_accuracy: 0.9255 - val_loss: 0.3005 - val_binary_accuracy: 0.8809\n",
      "Epoch 4/20\n",
      "15000/15000 [==============================] - 1s 76us/step - loss: 0.1817 - binary_accuracy: 0.9428 - val_loss: 0.2791 - val_binary_accuracy: 0.8877\n",
      "Epoch 5/20\n",
      "15000/15000 [==============================] - 1s 76us/step - loss: 0.1481 - binary_accuracy: 0.9544 - val_loss: 0.2772 - val_binary_accuracy: 0.8876\n",
      "Epoch 6/20\n",
      "15000/15000 [==============================] - 1s 76us/step - loss: 0.1212 - binary_accuracy: 0.9635 - val_loss: 0.3080 - val_binary_accuracy: 0.8804\n",
      "Epoch 7/20\n",
      "15000/15000 [==============================] - 1s 76us/step - loss: 0.0991 - binary_accuracy: 0.9727 - val_loss: 0.3032 - val_binary_accuracy: 0.8844\n",
      "Epoch 8/20\n",
      "15000/15000 [==============================] - 1s 77us/step - loss: 0.0817 - binary_accuracy: 0.9773 - val_loss: 0.3296 - val_binary_accuracy: 0.8789\n",
      "Epoch 9/20\n",
      "15000/15000 [==============================] - 1s 76us/step - loss: 0.0660 - binary_accuracy: 0.9824 - val_loss: 0.3471 - val_binary_accuracy: 0.8768\n",
      "Epoch 10/20\n",
      "15000/15000 [==============================] - 1s 78us/step - loss: 0.0531 - binary_accuracy: 0.9877 - val_loss: 0.3682 - val_binary_accuracy: 0.8781\n",
      "Epoch 11/20\n",
      "15000/15000 [==============================] - 1s 78us/step - loss: 0.0445 - binary_accuracy: 0.9897 - val_loss: 0.3926 - val_binary_accuracy: 0.8747\n",
      "Epoch 12/20\n",
      "15000/15000 [==============================] - 1s 76us/step - loss: 0.0323 - binary_accuracy: 0.9943 - val_loss: 0.4620 - val_binary_accuracy: 0.8649\n",
      "Epoch 13/20\n",
      "15000/15000 [==============================] - 1s 77us/step - loss: 0.0280 - binary_accuracy: 0.9940 - val_loss: 0.4530 - val_binary_accuracy: 0.8755\n",
      "Epoch 14/20\n",
      "15000/15000 [==============================] - 1s 78us/step - loss: 0.0206 - binary_accuracy: 0.9967 - val_loss: 0.4860 - val_binary_accuracy: 0.8714\n",
      "Epoch 15/20\n",
      "15000/15000 [==============================] - 1s 77us/step - loss: 0.0178 - binary_accuracy: 0.9965 - val_loss: 0.5188 - val_binary_accuracy: 0.8692\n",
      "Epoch 16/20\n",
      "15000/15000 [==============================] - 1s 77us/step - loss: 0.0096 - binary_accuracy: 0.9992 - val_loss: 0.5489 - val_binary_accuracy: 0.8716\n",
      "Epoch 17/20\n",
      "15000/15000 [==============================] - 1s 77us/step - loss: 0.0111 - binary_accuracy: 0.9987 - val_loss: 0.5878 - val_binary_accuracy: 0.8661\n",
      "Epoch 18/20\n",
      "15000/15000 [==============================] - 1s 77us/step - loss: 0.0090 - binary_accuracy: 0.9982 - val_loss: 0.6036 - val_binary_accuracy: 0.8700\n",
      "Epoch 19/20\n",
      "15000/15000 [==============================] - 1s 78us/step - loss: 0.0041 - binary_accuracy: 0.9999 - val_loss: 0.6323 - val_binary_accuracy: 0.8691\n",
      "Epoch 20/20\n",
      "15000/15000 [==============================] - 1s 77us/step - loss: 0.0065 - binary_accuracy: 0.9987 - val_loss: 0.6625 - val_binary_accuracy: 0.8677\n"
     ]
    }
   ],
   "source": [
    "#fit the model\n",
    "history = model.fit(p_X_train, p_y_train, epochs=20, batch_size=512, validation_data=(X_val, y_val))"
   ]
  },
  {
   "cell_type": "code",
   "execution_count": 62,
   "metadata": {},
   "outputs": [],
   "source": [
    "history_dict = history.history"
   ]
  },
  {
   "cell_type": "code",
   "execution_count": 63,
   "metadata": {},
   "outputs": [],
   "source": [
    "def plot_train_val_loss(history_dict, ax):\n",
    "    loss_values = history_dict['loss']\n",
    "    val_loss_values = history_dict['val_loss']\n",
    "    epochs = range(1, len(loss_values)+1)\n",
    "    ax.plot(epochs, loss_values,  'bo', label='Training Loss')\n",
    "    ax.plot(epochs, val_loss_values, 'b', label='Validation Loss')\n",
    "    ax.set_title('Training and Validation Loss')\n",
    "    ax.set_xlabel('Epochs')\n",
    "    ax.set_ylabel('Loss')\n",
    "    ax.legend()\n"
   ]
  },
  {
   "cell_type": "code",
   "execution_count": 64,
   "metadata": {},
   "outputs": [
    {
     "data": {
      "image/png": "[encoded data removed]",
      "text/plain": [
       "<Figure size 576x576 with 1 Axes>"
      ]
     },
     "metadata": {
      "needs_background": "light"
     },
     "output_type": "display_data"
    }
   ],
   "source": [
    "fig, ax = plt.subplots(figsize=(8,8))\n",
    "plot_train_val_loss(history_dict, ax)\n",
    "plt.show()"
   ]
  },
  {
   "cell_type": "code",
   "execution_count": 91,
   "metadata": {},
   "outputs": [],
   "source": [
    "def plot_train_val_metric(history_dict, ax, metric='binary_accuracy'):\n",
    "    acc_values = history_dict[metric]\n",
    "    val_acc_values = history_dict[f'val_{metric}']\n",
    "    epochs = list(range(1, len(acc_values)+1))\n",
    "    ax.plot(epochs, acc_values, 'bo', label=f'Training {metric}')\n",
    "    ax.plot(epochs, val_acc_values, 'b', label=f'Validation {metric}')\n",
    "    ax.set_title(f'Training and Validation {metric}')\n",
    "    ax.set_xlabel('Epochs')\n",
    "    ax.set_ylabel(f'{metric}')\n",
    "    ax.legend()"
   ]
  },
  {
   "cell_type": "code",
   "execution_count": 92,
   "metadata": {},
   "outputs": [
    {
     "data": {
      "image/png": "[encoded data removed]",
      "text/plain": [
       "<Figure size 432x288 with 1 Axes>"
      ]
     },
     "metadata": {
      "needs_background": "light"
     },
     "output_type": "display_data"
    }
   ],
   "source": [
    "fig, ax = plt.subplots()\n",
    "plot_train_val_metric(history_dict, ax)\n",
    "plt.show()"
   ]
  },
  {
   "cell_type": "code",
   "execution_count": 134,
   "metadata": {},
   "outputs": [],
   "source": [
    "#Build model 2, 3.11\n",
    "def build_model_2():\n",
    "    model = models.Sequential()\n",
    "    model.add(layers.Dense(16, activation='relu', input_shape=(10000,)))\n",
    "    model.add(layers.Dense(16, activation='relu'))\n",
    "    model.add(layers.Dense(1, activation='sigmoid'))\n",
    "    model.compile(optimizer='rmsprop', loss='binary_crossentropy', metrics=['accuracy'])\n",
    "    return model"
   ]
  },
  {
   "cell_type": "code",
   "execution_count": 135,
   "metadata": {},
   "outputs": [],
   "source": [
    "#get and fit model\n",
    "model = build_model_2()"
   ]
  },
  {
   "cell_type": "code",
   "execution_count": 136,
   "metadata": {},
   "outputs": [
    {
     "name": "stdout",
     "output_type": "stream",
     "text": [
      "Train on 25000 samples, validate on 25000 samples\n",
      "Epoch 1/10\n",
      "25000/25000 [==============================] - 3s 103us/step - loss: 0.4493 - acc: 0.8329 - val_loss: 0.3378 - val_acc: 0.8814\n",
      "Epoch 2/10\n",
      "25000/25000 [==============================] - 2s 86us/step - loss: 0.2597 - acc: 0.9093 - val_loss: 0.3409 - val_acc: 0.8592\n",
      "Epoch 3/10\n",
      "25000/25000 [==============================] - 2s 87us/step - loss: 0.1987 - acc: 0.9306 - val_loss: 0.2869 - val_acc: 0.8848\n",
      "Epoch 4/10\n",
      "25000/25000 [==============================] - 2s 87us/step - loss: 0.1663 - acc: 0.9403 - val_loss: 0.2978 - val_acc: 0.8817\n",
      "Epoch 5/10\n",
      "25000/25000 [==============================] - 2s 86us/step - loss: 0.1435 - acc: 0.9492 - val_loss: 0.3241 - val_acc: 0.8769\n",
      "Epoch 6/10\n",
      "25000/25000 [==============================] - 2s 86us/step - loss: 0.1257 - acc: 0.9563 - val_loss: 0.3340 - val_acc: 0.8767\n",
      "Epoch 7/10\n",
      "25000/25000 [==============================] - 2s 86us/step - loss: 0.1104 - acc: 0.9611 - val_loss: 0.3556 - val_acc: 0.8732\n",
      "Epoch 8/10\n",
      "25000/25000 [==============================] - 2s 87us/step - loss: 0.1000 - acc: 0.9661 - val_loss: 0.3794 - val_acc: 0.8704\n",
      "Epoch 9/10\n",
      "25000/25000 [==============================] - 2s 87us/step - loss: 0.0855 - acc: 0.9717 - val_loss: 0.4357 - val_acc: 0.8630\n",
      "Epoch 10/10\n",
      "25000/25000 [==============================] - 2s 87us/step - loss: 0.0760 - acc: 0.9752 - val_loss: 0.4370 - val_acc: 0.8652\n"
     ]
    }
   ],
   "source": [
    "history = model.fit(X_train, y_train, epochs=10, batch_size=512, validation_data=(X_test,y_test))"
   ]
  },
  {
   "cell_type": "code",
   "execution_count": 137,
   "metadata": {},
   "outputs": [
    {
     "data": {
      "image/png": "[encoded data removed]",
      "text/plain": [
       "<Figure size 432x288 with 1 Axes>"
      ]
     },
     "metadata": {
      "needs_background": "light"
     },
     "output_type": "display_data"
    }
   ],
   "source": [
    "history_dict = history.history\n",
    "fig, ax = plt.subplots()\n",
    "plot_train_val_loss(history_dict, ax)\n",
    "plt.show()"
   ]
  },
  {
   "cell_type": "code",
   "execution_count": 107,
   "metadata": {},
   "outputs": [
    {
     "data": {
      "text/plain": [
       "dict_keys(['val_loss', 'val_acc', 'loss', 'acc'])"
      ]
     },
     "execution_count": 107,
     "metadata": {},
     "output_type": "execute_result"
    }
   ],
   "source": [
    "history_dict.keys()"
   ]
  },
  {
   "cell_type": "code",
   "execution_count": 129,
   "metadata": {},
   "outputs": [
    {
     "name": "stdout",
     "output_type": "stream",
     "text": [
      "25000/25000 [==============================] - 1s 47us/step\n"
     ]
    },
    {
     "data": {
      "text/plain": [
       "[0.7849116117548942, 0.82368]"
      ]
     },
     "execution_count": 129,
     "metadata": {},
     "output_type": "execute_result"
    }
   ],
   "source": [
    "model.evaluate(X_test,y_test)"
   ]
  },
  {
   "cell_type": "code",
   "execution_count": 112,
   "metadata": {},
   "outputs": [],
   "source": [
    "predictions = model.predict(X_test)"
   ]
  },
  {
   "cell_type": "code",
   "execution_count": 115,
   "metadata": {},
   "outputs": [
    {
     "data": {
      "text/plain": [
       "1.5682965e-10"
      ]
     },
     "execution_count": 115,
     "metadata": {},
     "output_type": "execute_result"
    }
   ],
   "source": [
    "np.min(predictions)\n"
   ]
  },
  {
   "cell_type": "code",
   "execution_count": null,
   "metadata": {},
   "outputs": [],
   "source": []
  }
 ],
 "metadata": {
  "kernelspec": {
   "display_name": "Python 3",
   "language": "python",
   "name": "python3"
  },
  "language_info": {
   "codemirror_mode": {
    "name": "ipython",
    "version": 3
   },
   "file_extension": ".py",
   "mimetype": "text/x-python",
   "name": "python",
   "nbconvert_exporter": "python",
   "pygments_lexer": "ipython3",
   "version": "3.6.7"
  }
 },
 "nbformat": 4,
 "nbformat_minor": 2
}
