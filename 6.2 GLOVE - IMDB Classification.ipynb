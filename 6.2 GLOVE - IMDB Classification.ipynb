{
 "cells": [
  {
   "cell_type": "markdown",
   "metadata": {},
   "source": [
    "# Processing IMDB "
   ]
  },
  {
   "cell_type": "code",
   "execution_count": 4,
   "metadata": {},
   "outputs": [],
   "source": [
    "import os\n",
    "imdb_dir = './data/aclImdb'\n",
    "train_dir = os.path.join(imdb_dir,'train')\n",
    "\n",
    "labels = []\n",
    "texts = []\n",
    "\n",
    "for label_type in ['neg', 'pos']:\n",
    "    dir_name = os.path.join(train_dir, label_type)\n",
    "    for fname in os.listdir(dir_name):\n",
    "        if fname[-4:] == '.txt':\n",
    "            f = open(os.path.join(dir_name, fname))\n",
    "            texts.append(f.read())\n",
    "            f.close()\n",
    "            if label_type == 'neg':\n",
    "                labels.append(0)\n",
    "            else:\n",
    "                labels.append(1)"
   ]
  },
  {
   "cell_type": "code",
   "execution_count": 56,
   "metadata": {},
   "outputs": [],
   "source": [
    "from keras.preprocessing.text import Tokenizer\n",
    "from keras.preprocessing.sequence import pad_sequences\n",
    "import numpy as np\n",
    "\n",
    "maxlen = 100\n",
    "training_samples = 20000\n",
    "validation_samples = 10000\n",
    "max_words = 10000\n",
    "\n",
    "tokenizer = Tokenizer(num_words = max_words)\n",
    "tokenizer.fit_on_texts(texts)\n",
    "sequences = tokenizer.texts_to_sequences(texts)"
   ]
  },
  {
   "cell_type": "code",
   "execution_count": 57,
   "metadata": {},
   "outputs": [
    {
     "name": "stdout",
     "output_type": "stream",
     "text": [
      "Found 88582 unique tokens\n"
     ]
    }
   ],
   "source": [
    "word_index = tokenizer.word_index\n",
    "print(f'Found {len(word_index)} unique tokens')"
   ]
  },
  {
   "cell_type": "code",
   "execution_count": 58,
   "metadata": {},
   "outputs": [],
   "source": [
    "data = pad_sequences(sequences, maxlen=maxlen)"
   ]
  },
  {
   "cell_type": "code",
   "execution_count": 59,
   "metadata": {},
   "outputs": [],
   "source": [
    "labels = np.asarray(labels)"
   ]
  },
  {
   "cell_type": "code",
   "execution_count": 60,
   "metadata": {},
   "outputs": [
    {
     "data": {
      "text/plain": [
       "((25000, 100), (25000,))"
      ]
     },
     "execution_count": 60,
     "metadata": {},
     "output_type": "execute_result"
    }
   ],
   "source": [
    "data.shape, labels.shape"
   ]
  },
  {
   "cell_type": "code",
   "execution_count": 61,
   "metadata": {},
   "outputs": [],
   "source": [
    "indices = np.arange(data.shape[0])\n",
    "np.random.shuffle(indices)\n",
    "data=data[indices]\n",
    "labels=labels[indices]\n",
    "\n",
    "X_train = data[:training_samples]\n",
    "y_train = labels[:training_samples]\n",
    "X_val = data[training_samples:]\n",
    "y_val = labels[training_samples:]"
   ]
  },
  {
   "cell_type": "code",
   "execution_count": 13,
   "metadata": {},
   "outputs": [],
   "source": [
    "#Use pyspark to process word_embedding\n",
    "import pyspark as ps\n",
    "spark = (ps.sql.SparkSession\n",
    "         .builder\n",
    "         .master('local[4]')\n",
    "         .appName('lecture')\n",
    "         .getOrCreate()\n",
    "        )\n",
    "sc = spark.sparkContext"
   ]
  },
  {
   "cell_type": "code",
   "execution_count": 14,
   "metadata": {},
   "outputs": [],
   "source": [
    "df = spark.read.csv('data/glove.6B/glove.6B.50d.txt',\n",
    "                   header=False,             # char for quotes\n",
    "                         sep=\" \",           # char for separation\n",
    "                         inferSchema=True)"
   ]
  },
  {
   "cell_type": "code",
   "execution_count": 44,
   "metadata": {},
   "outputs": [
    {
     "name": "stdout",
     "output_type": "stream",
     "text": [
      "Dense\t Embedding\t Flatten\t Sequential\t Tokenizer\t X_test\t X_train\t X_val\t character\t \n",
      "characters\t data\t df\t dimensionality\t dir_name\t f\t fname\t history\t i\t \n",
      "imdb\t imdb_dir\t index\t indices\t j\t label_type\t labels\t max_features\t max_length\t \n",
      "max_words\t maxlen\t model\t np\t one_hot_results\t pad_sequences\t preprocessing\t ps\t result\t \n",
      "results\t sample\t samples\t sequences\t string\t texts\t token_index\t tokenizer\t train_dir\t \n",
      "training_samples\t validation_samples\t word\t word_index\t y_test\t y_train\t y_val\t \n"
     ]
    }
   ],
   "source": []
  },
  {
   "cell_type": "code",
   "execution_count": 15,
   "metadata": {},
   "outputs": [],
   "source": [
    "glove = np.array(df.select('*').collect())"
   ]
  },
  {
   "cell_type": "code",
   "execution_count": 17,
   "metadata": {},
   "outputs": [],
   "source": [
    "embeddings_index = {}\n",
    "\n",
    "for row in glove:\n",
    "    embeddings_index[row[0]] = row[1:]"
   ]
  },
  {
   "cell_type": "code",
   "execution_count": 20,
   "metadata": {},
   "outputs": [],
   "source": [
    "embedding_dim = 50\n",
    "\n",
    "embedding_matrix = np.zeros((max_words, embedding_dim))\n",
    "for word, i in word_index.items():\n",
    "    if i < max_words:\n",
    "        embedding_vector = embeddings_index.get(word)\n",
    "        if embedding_vector is not None:\n",
    "            embedding_matrix[i] = embedding_vector"
   ]
  },
  {
   "cell_type": "code",
   "execution_count": 43,
   "metadata": {},
   "outputs": [
    {
     "name": "stdout",
     "output_type": "stream",
     "text": [
      "_________________________________________________________________\n",
      "Layer (type)                 Output Shape              Param #   \n",
      "=================================================================\n",
      "embedding_3 (Embedding)      (None, 100, 50)           500000    \n",
      "_________________________________________________________________\n",
      "flatten_3 (Flatten)          (None, 5000)              0         \n",
      "_________________________________________________________________\n",
      "dense_5 (Dense)              (None, 32)                160032    \n",
      "_________________________________________________________________\n",
      "dense_6 (Dense)              (None, 1)                 33        \n",
      "=================================================================\n",
      "Total params: 660,065\n",
      "Trainable params: 660,065\n",
      "Non-trainable params: 0\n",
      "_________________________________________________________________\n"
     ]
    }
   ],
   "source": [
    "from keras.models import Sequential\n",
    "from keras.layers import Embedding, Flatten, Dense\n",
    "\n",
    "model = Sequential()\n",
    "model.add(Embedding(max_words, embedding_dim, input_length=maxlen))\n",
    "model.add(Flatten())\n",
    "model.add(Dense(32, activation='relu'))\n",
    "model.add(Dense(1, activation='sigmoid'))\n",
    "model.summary()"
   ]
  },
  {
   "cell_type": "code",
   "execution_count": 44,
   "metadata": {},
   "outputs": [],
   "source": [
    "model.layers[0].set_weights([embedding_matrix])\n",
    "model.layers[0].trainable = False"
   ]
  },
  {
   "cell_type": "code",
   "execution_count": 45,
   "metadata": {},
   "outputs": [],
   "source": [
    "model.compile(optimizer='rmsprop', loss='binary_crossentropy', metrics=['acc'])"
   ]
  },
  {
   "cell_type": "code",
   "execution_count": 62,
   "metadata": {},
   "outputs": [
    {
     "name": "stdout",
     "output_type": "stream",
     "text": [
      "Train on 20000 samples, validate on 5000 samples\n",
      "Epoch 1/10\n",
      "20000/20000 [==============================] - 1s 65us/step - loss: 0.7017 - acc: 0.5003 - val_loss: 0.6929 - val_acc: 0.5090\n",
      "Epoch 2/10\n",
      "20000/20000 [==============================] - 1s 62us/step - loss: 0.6920 - acc: 0.5095 - val_loss: 0.7034 - val_acc: 0.4990\n",
      "Epoch 3/10\n",
      "20000/20000 [==============================] - 1s 63us/step - loss: 0.6850 - acc: 0.5254 - val_loss: 0.7097 - val_acc: 0.5020\n",
      "Epoch 4/10\n",
      "20000/20000 [==============================] - 1s 63us/step - loss: 0.6669 - acc: 0.5553 - val_loss: 0.7246 - val_acc: 0.5082\n",
      "Epoch 5/10\n",
      "20000/20000 [==============================] - 1s 71us/step - loss: 0.6289 - acc: 0.5980 - val_loss: 0.7373 - val_acc: 0.5112\n",
      "Epoch 6/10\n",
      "20000/20000 [==============================] - 1s 66us/step - loss: 0.5791 - acc: 0.6420 - val_loss: 0.8180 - val_acc: 0.5052\n",
      "Epoch 7/10\n",
      "20000/20000 [==============================] - 1s 64us/step - loss: 0.5140 - acc: 0.6935 - val_loss: 0.9466 - val_acc: 0.5126\n",
      "Epoch 8/10\n",
      "20000/20000 [==============================] - 1s 67us/step - loss: 0.4501 - acc: 0.7393 - val_loss: 1.0007 - val_acc: 0.5012\n",
      "Epoch 9/10\n",
      "20000/20000 [==============================] - 1s 69us/step - loss: 0.3841 - acc: 0.7849 - val_loss: 1.0772 - val_acc: 0.5076\n",
      "Epoch 10/10\n",
      "20000/20000 [==============================] - 1s 67us/step - loss: 0.3245 - acc: 0.8222 - val_loss: 1.2671 - val_acc: 0.5108\n"
     ]
    }
   ],
   "source": [
    "history = model.fit(X_train, y_train, epochs=10, batch_size=32, validation_data=[X_val, y_val])\n",
    "model.save_weights('./data/pre_trained_glove_model.h5')"
   ]
  },
  {
   "cell_type": "code",
   "execution_count": 63,
   "metadata": {},
   "outputs": [],
   "source": [
    "import matplotlib.pyplot as plt "
   ]
  },
  {
   "cell_type": "code",
   "execution_count": 64,
   "metadata": {},
   "outputs": [],
   "source": [
    "def plot_train_val_loss(history_dict, ax):\n",
    "    loss_values = history_dict['loss']\n",
    "    val_loss_values = history_dict['val_loss']\n",
    "    epochs = range(1, len(loss_values)+1)\n",
    "    ax.plot(epochs, loss_values,  'bo', label='Training Loss')\n",
    "    ax.plot(epochs, val_loss_values, 'b', label='Validation Loss')\n",
    "    ax.set_title('Training and Validation Loss')\n",
    "    ax.set_xlabel('Epochs')\n",
    "    ax.set_ylabel('Loss')\n",
    "    ax.legend()\n",
    "    \n",
    "def plot_train_val_metric(history_dict, ax, metric='accuracy'):\n",
    "    acc_values = history_dict[metric]\n",
    "    val_acc_values = history_dict[f'val_{metric}']\n",
    "    epochs = list(range(1, len(acc_values)+1))\n",
    "    ax.plot(epochs, acc_values, 'bo', label=f'Training {metric}')\n",
    "    ax.plot(epochs, val_acc_values, 'b', label=f'Validation {metric}')\n",
    "    ax.set_title(f'Training and Validation {metric}')\n",
    "    ax.set_xlabel('Epochs')\n",
    "    ax.set_ylabel(f'{metric}')\n",
    "    ax.legend()"
   ]
  },
  {
   "cell_type": "code",
   "execution_count": 65,
   "metadata": {},
   "outputs": [
    {
     "data": {
      "image/png": "[encoded data removed]",
      "text/plain": [
       "<Figure size 432x288 with 1 Axes>"
      ]
     },
     "metadata": {
      "needs_background": "light"
     },
     "output_type": "display_data"
    }
   ],
   "source": [
    "fig, ax = plt.subplots()\n",
    "plot_train_val_loss(history.history, ax)"
   ]
  },
  {
   "cell_type": "code",
   "execution_count": 66,
   "metadata": {},
   "outputs": [
    {
     "data": {
      "image/png": "[encoded data removed]",
      "text/plain": [
       "<Figure size 432x288 with 1 Axes>"
      ]
     },
     "metadata": {
      "needs_background": "light"
     },
     "output_type": "display_data"
    }
   ],
   "source": [
    "fig, ax = plt.subplots()\n",
    "plot_train_val_metric(history.history, ax, 'acc')"
   ]
  },
  {
   "cell_type": "code",
   "execution_count": 67,
   "metadata": {},
   "outputs": [
    {
     "name": "stdout",
     "output_type": "stream",
     "text": [
      "_________________________________________________________________\n",
      "Layer (type)                 Output Shape              Param #   \n",
      "=================================================================\n",
      "embedding_4 (Embedding)      (None, 100, 50)           500000    \n",
      "_________________________________________________________________\n",
      "flatten_4 (Flatten)          (None, 5000)              0         \n",
      "_________________________________________________________________\n",
      "dense_7 (Dense)              (None, 32)                160032    \n",
      "_________________________________________________________________\n",
      "dense_8 (Dense)              (None, 1)                 33        \n",
      "=================================================================\n",
      "Total params: 660,065\n",
      "Trainable params: 660,065\n",
      "Non-trainable params: 0\n",
      "_________________________________________________________________\n"
     ]
    }
   ],
   "source": [
    "# training model without pretrained word embeddings\n",
    "\n",
    "model = Sequential()\n",
    "model.add(Embedding(max_words, embedding_dim, input_length=maxlen))\n",
    "model.add(Flatten())\n",
    "model.add(Dense(32, activation='relu'))\n",
    "model.add(Dense(1, activation='sigmoid'))\n",
    "model.summary()\n"
   ]
  },
  {
   "cell_type": "code",
   "execution_count": 68,
   "metadata": {},
   "outputs": [],
   "source": [
    "model.compile(optimizer='rmsprop', loss='binary_crossentropy', metrics=['acc'])"
   ]
  },
  {
   "cell_type": "code",
   "execution_count": 69,
   "metadata": {},
   "outputs": [
    {
     "name": "stdout",
     "output_type": "stream",
     "text": [
      "Train on 20000 samples, validate on 5000 samples\n",
      "Epoch 1/10\n",
      "20000/20000 [==============================] - 2s 117us/step - loss: 0.6937 - acc: 0.4957 - val_loss: 0.6940 - val_acc: 0.4826\n",
      "Epoch 2/10\n",
      "20000/20000 [==============================] - 2s 104us/step - loss: 0.5411 - acc: 0.7384 - val_loss: 0.8323 - val_acc: 0.4992\n",
      "Epoch 3/10\n",
      "20000/20000 [==============================] - 2s 108us/step - loss: 0.1759 - acc: 0.9395 - val_loss: 1.2909 - val_acc: 0.4976\n",
      "Epoch 4/10\n",
      "20000/20000 [==============================] - 2s 107us/step - loss: 0.0361 - acc: 0.9924 - val_loss: 1.7707 - val_acc: 0.5068\n",
      "Epoch 5/10\n",
      "20000/20000 [==============================] - 2s 108us/step - loss: 0.0173 - acc: 0.9968 - val_loss: 1.9276 - val_acc: 0.5124\n",
      "Epoch 6/10\n",
      "20000/20000 [==============================] - 2s 110us/step - loss: 0.0103 - acc: 0.9971 - val_loss: 2.4024 - val_acc: 0.5076\n",
      "Epoch 7/10\n",
      "20000/20000 [==============================] - 2s 112us/step - loss: 0.0081 - acc: 0.9973 - val_loss: 2.5503 - val_acc: 0.5048\n",
      "Epoch 8/10\n",
      "20000/20000 [==============================] - 2s 109us/step - loss: 0.0056 - acc: 0.9977 - val_loss: 2.9136 - val_acc: 0.5130\n",
      "Epoch 9/10\n",
      "20000/20000 [==============================] - 2s 110us/step - loss: 0.0053 - acc: 0.9979 - val_loss: 3.2147 - val_acc: 0.5104\n",
      "Epoch 10/10\n",
      "20000/20000 [==============================] - 2s 110us/step - loss: 0.0042 - acc: 0.9981 - val_loss: 3.4529 - val_acc: 0.5076\n"
     ]
    }
   ],
   "source": [
    "history = model.fit(X_train, y_train, epochs=10, batch_size=32, validation_data=[X_val, y_val])"
   ]
  },
  {
   "cell_type": "code",
   "execution_count": 70,
   "metadata": {},
   "outputs": [
    {
     "data": {
      "image/png": "[encoded data removed]",
      "text/plain": [
       "<Figure size 432x288 with 1 Axes>"
      ]
     },
     "metadata": {
      "needs_background": "light"
     },
     "output_type": "display_data"
    }
   ],
   "source": [
    "fig,ax = plt.subplots()\n",
    "plot_train_val_loss(history.history, ax)"
   ]
  },
  {
   "cell_type": "code",
   "execution_count": 71,
   "metadata": {},
   "outputs": [
    {
     "data": {
      "image/png": "[encoded data removed]",
      "text/plain": [
       "<Figure size 432x288 with 1 Axes>"
      ]
     },
     "metadata": {
      "needs_background": "light"
     },
     "output_type": "display_data"
    }
   ],
   "source": [
    "fig, ax = plt.subplots()\n",
    "plot_train_val_metric(history.history, ax, 'acc')"
   ]
  },
  {
   "cell_type": "code",
   "execution_count": null,
   "metadata": {},
   "outputs": [],
   "source": []
  },
  {
   "cell_type": "code",
   "execution_count": null,
   "metadata": {},
   "outputs": [],
   "source": []
  }
 ],
 "metadata": {
  "kernelspec": {
   "display_name": "Python 3",
   "language": "python",
   "name": "python3"
  },
  "language_info": {
   "codemirror_mode": {
    "name": "ipython",
    "version": 3
   },
   "file_extension": ".py",
   "mimetype": "text/x-python",
   "name": "python",
   "nbconvert_exporter": "python",
   "pygments_lexer": "ipython3",
   "version": "3.6.7"
  }
 },
 "nbformat": 4,
 "nbformat_minor": 2
}
