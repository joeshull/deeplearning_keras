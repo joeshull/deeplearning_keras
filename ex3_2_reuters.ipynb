{
 "cells": [
  {
   "cell_type": "code",
   "execution_count": 20,
   "metadata": {},
   "outputs": [],
   "source": [
    "from keras.datasets import reuters\n",
    "from keras import models, layers, optimizers\n",
    "from keras.utils.np_utils import to_categorical\n",
    "\n",
    "import matplotlib.pyplot as plt \n",
    "import numpy as np \n",
    "import pandas as pd "
   ]
  },
  {
   "cell_type": "code",
   "execution_count": 2,
   "metadata": {},
   "outputs": [],
   "source": [
    "(X_train, y_train), (X_test, y_test) = reuters.load_data(num_words=10000)"
   ]
  },
  {
   "cell_type": "code",
   "execution_count": 7,
   "metadata": {},
   "outputs": [],
   "source": [
    "word_index = reuters.get_word_index()\n",
    "reverse_word_index = dict([(value,key) for (key,value) in word_index.items()])"
   ]
  },
  {
   "cell_type": "code",
   "execution_count": 8,
   "metadata": {},
   "outputs": [],
   "source": [
    "decoded_newswire = ' '.join([reverse_word_index.get(i-3, '?') for i in X_train[0]])"
   ]
  },
  {
   "cell_type": "code",
   "execution_count": 9,
   "metadata": {},
   "outputs": [
    {
     "data": {
      "text/plain": [
       "'? ? ? said as a result of its december acquisition of space co it expects earnings per share in 1987 of 1 15 to 1 30 dlrs per share up from 70 cts in 1986 the company said pretax net should rise to nine to 10 mln dlrs from six mln dlrs in 1986 and rental operation revenues to 19 to 22 mln dlrs from 12 5 mln dlrs it said cash flow per share this year should be 2 50 to three dlrs reuter 3'"
      ]
     },
     "execution_count": 9,
     "metadata": {},
     "output_type": "execute_result"
    }
   ],
   "source": [
    "decoded_newswire"
   ]
  },
  {
   "cell_type": "code",
   "execution_count": 13,
   "metadata": {},
   "outputs": [
    {
     "data": {
      "text/plain": [
       "array([ 0,  1,  2,  3,  4,  5,  6,  7,  8,  9, 10, 11, 12, 13, 14, 15, 16,\n",
       "       17, 18, 19, 20, 21, 22, 23, 24, 25, 26, 27, 28, 29, 30, 31, 32, 33,\n",
       "       34, 35, 36, 37, 38, 39, 40, 41, 42, 43, 44, 45])"
      ]
     },
     "execution_count": 13,
     "metadata": {},
     "output_type": "execute_result"
    }
   ],
   "source": [
    "np.unique(y_train)"
   ]
  },
  {
   "cell_type": "code",
   "execution_count": 16,
   "metadata": {},
   "outputs": [],
   "source": [
    "def vectorize_sequences(sequences, dimension=10000):\n",
    "    results = np.zeros((len(sequences), dimension))\n",
    "    for i, sequence in enumerate(sequences):\n",
    "        results[i, sequence] = 1\n",
    "    return results"
   ]
  },
  {
   "cell_type": "code",
   "execution_count": 17,
   "metadata": {},
   "outputs": [],
   "source": [
    "X_train = vectorize_sequences(X_train)\n",
    "X_test = vectorize_sequences(X_test)"
   ]
  },
  {
   "cell_type": "code",
   "execution_count": 18,
   "metadata": {},
   "outputs": [],
   "source": [
    "def to_one_hot(labels, dimension=46):\n",
    "    results = np.zeros((len(labels), dimension))\n",
    "    for i, label in enumerate(labels):\n",
    "        results[i, label] = 1\n",
    "    return results"
   ]
  },
  {
   "cell_type": "code",
   "execution_count": 69,
   "metadata": {},
   "outputs": [],
   "source": [
    "y_train_ohe = to_one_hot(y_train)\n",
    "y_test_ohe = to_one_hot(y_test)\n",
    "y_train = np.array(y_train)\n",
    "y_test = np.array(y_test)\n"
   ]
  },
  {
   "cell_type": "code",
   "execution_count": 66,
   "metadata": {},
   "outputs": [],
   "source": [
    "def build_model_1():\n",
    "    model = models.Sequential()\n",
    "    model.add(layers.Dense(64, activation='relu', input_shape=(10000,)))\n",
    "    model.add(layers.Dense(4, activation='relu'))\n",
    "    model.add(layers.Dense(46,activation='softmax'))\n",
    "    model.compile(optimizer='rmsprop', loss='sparse_categorical_crossentropy', metrics=['accuracy'])\n",
    "    return model"
   ]
  },
  {
   "cell_type": "code",
   "execution_count": 45,
   "metadata": {},
   "outputs": [],
   "source": [
    "X_val = X_train[:1000]\n",
    "p_X_train = X_train[1000:]\n",
    "y_val = y_train_ohe[:1000]\n",
    "p_y_train = y_train_ohe[1000:]"
   ]
  },
  {
   "cell_type": "code",
   "execution_count": 46,
   "metadata": {},
   "outputs": [],
   "source": [
    "model = build_model_1()"
   ]
  },
  {
   "cell_type": "code",
   "execution_count": 48,
   "metadata": {},
   "outputs": [
    {
     "name": "stdout",
     "output_type": "stream",
     "text": [
      "Train on 7982 samples, validate on 1000 samples\n",
      "Epoch 1/20\n",
      "7982/7982 [==============================] - 1s 117us/step - loss: 2.7418 - acc: 0.5013 - val_loss: 1.8187 - val_acc: 0.6140\n",
      "Epoch 2/20\n",
      "7982/7982 [==============================] - 1s 77us/step - loss: 1.4615 - acc: 0.6963 - val_loss: 1.3520 - val_acc: 0.7050\n",
      "Epoch 3/20\n",
      "7982/7982 [==============================] - 1s 76us/step - loss: 1.0709 - acc: 0.7751 - val_loss: 1.1660 - val_acc: 0.7460\n",
      "Epoch 4/20\n",
      "7982/7982 [==============================] - 1s 76us/step - loss: 0.8426 - acc: 0.8235 - val_loss: 1.0506 - val_acc: 0.7760\n",
      "Epoch 5/20\n",
      "7982/7982 [==============================] - 1s 77us/step - loss: 0.6775 - acc: 0.8582 - val_loss: 0.9767 - val_acc: 0.7920\n",
      "Epoch 6/20\n",
      "7982/7982 [==============================] - 1s 77us/step - loss: 0.5409 - acc: 0.8865 - val_loss: 0.9386 - val_acc: 0.7940\n",
      "Epoch 7/20\n",
      "7982/7982 [==============================] - 1s 77us/step - loss: 0.4333 - acc: 0.9095 - val_loss: 0.9530 - val_acc: 0.7910\n",
      "Epoch 8/20\n",
      "7982/7982 [==============================] - 1s 77us/step - loss: 0.3543 - acc: 0.9245 - val_loss: 0.8903 - val_acc: 0.8140\n",
      "Epoch 9/20\n",
      "7982/7982 [==============================] - 1s 76us/step - loss: 0.2938 - acc: 0.9357 - val_loss: 0.9103 - val_acc: 0.8080\n",
      "Epoch 10/20\n",
      "7982/7982 [==============================] - 1s 76us/step - loss: 0.2473 - acc: 0.9425 - val_loss: 0.8803 - val_acc: 0.8170\n",
      "Epoch 11/20\n",
      "7982/7982 [==============================] - 1s 77us/step - loss: 0.2133 - acc: 0.9475 - val_loss: 0.9341 - val_acc: 0.8150\n",
      "Epoch 12/20\n",
      "7982/7982 [==============================] - 1s 77us/step - loss: 0.1879 - acc: 0.9524 - val_loss: 0.9216 - val_acc: 0.8090\n",
      "Epoch 13/20\n",
      "7982/7982 [==============================] - 1s 76us/step - loss: 0.1643 - acc: 0.9551 - val_loss: 0.9344 - val_acc: 0.8120\n",
      "Epoch 14/20\n",
      "7982/7982 [==============================] - 1s 77us/step - loss: 0.1555 - acc: 0.9535 - val_loss: 0.9747 - val_acc: 0.8000\n",
      "Epoch 15/20\n",
      "7982/7982 [==============================] - 1s 76us/step - loss: 0.1384 - acc: 0.9563 - val_loss: 0.9915 - val_acc: 0.8030\n",
      "Epoch 16/20\n",
      "7982/7982 [==============================] - 1s 76us/step - loss: 0.1312 - acc: 0.9560 - val_loss: 1.0434 - val_acc: 0.8000\n",
      "Epoch 17/20\n",
      "7982/7982 [==============================] - 1s 78us/step - loss: 0.1267 - acc: 0.9565 - val_loss: 1.0348 - val_acc: 0.8040\n",
      "Epoch 18/20\n",
      "7982/7982 [==============================] - 1s 78us/step - loss: 0.1208 - acc: 0.9568 - val_loss: 1.0524 - val_acc: 0.7980\n",
      "Epoch 19/20\n",
      "7982/7982 [==============================] - 1s 77us/step - loss: 0.1131 - acc: 0.9579 - val_loss: 1.0175 - val_acc: 0.8050\n",
      "Epoch 20/20\n",
      "7982/7982 [==============================] - 1s 77us/step - loss: 0.1098 - acc: 0.9580 - val_loss: 1.0528 - val_acc: 0.7950\n"
     ]
    }
   ],
   "source": [
    "history = model.fit(p_X_train, p_y_train, epochs=20, batch_size=512, validation_data=(X_val, y_val))"
   ]
  },
  {
   "cell_type": "code",
   "execution_count": 27,
   "metadata": {},
   "outputs": [],
   "source": [
    "def plot_train_val_loss(history_dict, ax):\n",
    "    loss_values = history_dict['loss']\n",
    "    val_loss_values = history_dict['val_loss']\n",
    "    epochs = range(1, len(loss_values)+1)\n",
    "    ax.plot(epochs, loss_values,  'bo', label='Training Loss')\n",
    "    ax.plot(epochs, val_loss_values, 'b', label='Validation Loss')\n",
    "    ax.set_title('Training and Validation Loss')\n",
    "    ax.set_xlabel('Epochs')\n",
    "    ax.set_ylabel('Loss')\n",
    "    ax.legend()\n",
    "\n",
    "\n",
    "\n",
    "def plot_train_val_metric(history_dict, ax, metric='accuracy'):\n",
    "    acc_values = history_dict[metric]\n",
    "    val_acc_values = history_dict[f'val_{metric}']\n",
    "    epochs = list(range(1, len(acc_values)+1))\n",
    "    ax.plot(epochs, acc_values, 'bo', label=f'Training {metric}')\n",
    "    ax.plot(epochs, val_acc_values, 'b', label=f'Validation {metric}')\n",
    "    ax.set_title(f'Training and Validation {metric}')\n",
    "    ax.set_xlabel('Epochs')\n",
    "    ax.set_ylabel(f'{metric}')\n",
    "    ax.legend()"
   ]
  },
  {
   "cell_type": "code",
   "execution_count": 49,
   "metadata": {},
   "outputs": [
    {
     "data": {
      "image/png": "[encoded data removed]",
      "text/plain": [
       "<Figure size 432x288 with 1 Axes>"
      ]
     },
     "metadata": {
      "needs_background": "light"
     },
     "output_type": "display_data"
    }
   ],
   "source": [
    "history_dict = history.history\n",
    "fig, ax = plt.subplots()\n",
    "plot_train_val_loss(history_dict, ax)\n",
    "plt.show()"
   ]
  },
  {
   "cell_type": "code",
   "execution_count": 50,
   "metadata": {},
   "outputs": [
    {
     "data": {
      "text/plain": [
       "<Figure size 432x288 with 0 Axes>"
      ]
     },
     "metadata": {},
     "output_type": "display_data"
    },
    {
     "data": {
      "image/png": "[encoded data removed]",
      "text/plain": [
       "<Figure size 432x288 with 1 Axes>"
      ]
     },
     "metadata": {
      "needs_background": "light"
     },
     "output_type": "display_data"
    }
   ],
   "source": [
    "plt.clf()\n",
    "fig, ax = plt.subplots()\n",
    "plot_train_val_metric(history_dict, ax, 'acc')\n",
    "plt.show()"
   ]
  },
  {
   "cell_type": "code",
   "execution_count": 67,
   "metadata": {},
   "outputs": [],
   "source": [
    "#Train a new model for 9 epochs\n",
    "model = build_model_1()"
   ]
  },
  {
   "cell_type": "code",
   "execution_count": 70,
   "metadata": {},
   "outputs": [
    {
     "name": "stdout",
     "output_type": "stream",
     "text": [
      "Train on 7982 samples, validate on 1000 samples\n",
      "Epoch 1/20\n",
      "7982/7982 [==============================] - 1s 115us/step - loss: 3.5791 - acc: 0.0462 - val_loss: 3.3149 - val_acc: 0.0640\n",
      "Epoch 2/20\n",
      "7982/7982 [==============================] - 1s 77us/step - loss: 3.0610 - acc: 0.1715 - val_loss: 2.8998 - val_acc: 0.3730\n",
      "Epoch 3/20\n",
      "7982/7982 [==============================] - 1s 79us/step - loss: 2.5863 - acc: 0.4877 - val_loss: 2.4726 - val_acc: 0.5620\n",
      "Epoch 4/20\n",
      "7982/7982 [==============================] - 1s 75us/step - loss: 2.1363 - acc: 0.5996 - val_loss: 2.1099 - val_acc: 0.5980\n",
      "Epoch 5/20\n",
      "7982/7982 [==============================] - 1s 75us/step - loss: 1.8000 - acc: 0.6139 - val_loss: 1.8798 - val_acc: 0.6010\n",
      "Epoch 6/20\n",
      "7982/7982 [==============================] - 1s 75us/step - loss: 1.5892 - acc: 0.6336 - val_loss: 1.7455 - val_acc: 0.6180\n",
      "Epoch 7/20\n",
      "7982/7982 [==============================] - 1s 75us/step - loss: 1.4538 - acc: 0.6511 - val_loss: 1.6736 - val_acc: 0.6220\n",
      "Epoch 8/20\n",
      "7982/7982 [==============================] - 1s 75us/step - loss: 1.3595 - acc: 0.6584 - val_loss: 1.6106 - val_acc: 0.6290\n",
      "Epoch 9/20\n",
      "7982/7982 [==============================] - 1s 77us/step - loss: 1.2889 - acc: 0.6635 - val_loss: 1.5847 - val_acc: 0.6230\n",
      "Epoch 10/20\n",
      "7982/7982 [==============================] - 1s 76us/step - loss: 1.2292 - acc: 0.6680 - val_loss: 1.5608 - val_acc: 0.6270\n",
      "Epoch 11/20\n",
      "7982/7982 [==============================] - 1s 76us/step - loss: 1.1801 - acc: 0.6705 - val_loss: 1.5464 - val_acc: 0.6300\n",
      "Epoch 12/20\n",
      "7982/7982 [==============================] - 1s 76us/step - loss: 1.1337 - acc: 0.6739 - val_loss: 1.5404 - val_acc: 0.6320\n",
      "Epoch 13/20\n",
      "7982/7982 [==============================] - 1s 77us/step - loss: 1.0912 - acc: 0.6820 - val_loss: 1.5350 - val_acc: 0.6360\n",
      "Epoch 14/20\n",
      "7982/7982 [==============================] - 1s 76us/step - loss: 1.0502 - acc: 0.6993 - val_loss: 1.5235 - val_acc: 0.6460\n",
      "Epoch 15/20\n",
      "7982/7982 [==============================] - 1s 76us/step - loss: 1.0131 - acc: 0.7205 - val_loss: 1.5284 - val_acc: 0.6660\n",
      "Epoch 16/20\n",
      "7982/7982 [==============================] - 1s 77us/step - loss: 0.9805 - acc: 0.7428 - val_loss: 1.4952 - val_acc: 0.6750\n",
      "Epoch 17/20\n",
      "7982/7982 [==============================] - 1s 77us/step - loss: 0.9507 - acc: 0.7528 - val_loss: 1.5318 - val_acc: 0.6720\n",
      "Epoch 18/20\n",
      "7982/7982 [==============================] - 1s 76us/step - loss: 0.9261 - acc: 0.7635 - val_loss: 1.5147 - val_acc: 0.6800\n",
      "Epoch 19/20\n",
      "7982/7982 [==============================] - 1s 76us/step - loss: 0.9020 - acc: 0.7647 - val_loss: 1.5163 - val_acc: 0.6810\n",
      "Epoch 20/20\n",
      "7982/7982 [==============================] - 1s 81us/step - loss: 0.8772 - acc: 0.7677 - val_loss: 1.5403 - val_acc: 0.6760\n"
     ]
    }
   ],
   "source": [
    "history = model.fit(p_X_train, y_train[1000:], epochs=20, batch_size=512, validation_data=(X_val, y_train[:1000]))"
   ]
  },
  {
   "cell_type": "code",
   "execution_count": 71,
   "metadata": {},
   "outputs": [
    {
     "data": {
      "image/png": "[encoded data removed]",
      "text/plain": [
       "<Figure size 432x288 with 1 Axes>"
      ]
     },
     "metadata": {
      "needs_background": "light"
     },
     "output_type": "display_data"
    }
   ],
   "source": [
    "history_dict = history.history\n",
    "fig, ax = plt.subplots()\n",
    "plot_train_val_loss(history_dict, ax)\n",
    "plt.show()"
   ]
  },
  {
   "cell_type": "code",
   "execution_count": 58,
   "metadata": {},
   "outputs": [
    {
     "name": "stdout",
     "output_type": "stream",
     "text": [
      "2246/2246 [==============================] - 0s 69us/step\n"
     ]
    },
    {
     "data": {
      "text/plain": [
       "[1.591818481073354, 0.6117542297948394]"
      ]
     },
     "execution_count": 58,
     "metadata": {},
     "output_type": "execute_result"
    }
   ],
   "source": [
    "model.evaluate(X_test, y_test_ohe)"
   ]
  },
  {
   "cell_type": "code",
   "execution_count": 59,
   "metadata": {},
   "outputs": [],
   "source": [
    "predictions = model.predict(X_test[:5])"
   ]
  },
  {
   "cell_type": "code",
   "execution_count": 60,
   "metadata": {},
   "outputs": [
    {
     "data": {
      "text/plain": [
       "3"
      ]
     },
     "execution_count": 60,
     "metadata": {},
     "output_type": "execute_result"
    }
   ],
   "source": [
    "predictions[0].argmax()"
   ]
  },
  {
   "cell_type": "code",
   "execution_count": null,
   "metadata": {},
   "outputs": [],
   "source": []
  }
 ],
 "metadata": {
  "kernelspec": {
   "display_name": "Python 3",
   "language": "python",
   "name": "python3"
  },
  "language_info": {
   "codemirror_mode": {
    "name": "ipython",
    "version": 3
   },
   "file_extension": ".py",
   "mimetype": "text/x-python",
   "name": "python",
   "nbconvert_exporter": "python",
   "pygments_lexer": "ipython3",
   "version": "3.6.7"
  }
 },
 "nbformat": 4,
 "nbformat_minor": 2
}
