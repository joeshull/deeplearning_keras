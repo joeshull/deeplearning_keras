{
 "cells": [
  {
   "cell_type": "code",
   "execution_count": 19,
   "metadata": {},
   "outputs": [],
   "source": [
    "from keras.datasets import boston_housing\n",
    "from keras import models, layers\n",
    "\n",
    "import numpy as np\n",
    "import matplotlib.pyplot as plt \n",
    "\n",
    "from sklearn.preprocessing import StandardScaler\n"
   ]
  },
  {
   "cell_type": "code",
   "execution_count": 20,
   "metadata": {},
   "outputs": [],
   "source": [
    "scaler = StandardScaler()"
   ]
  },
  {
   "cell_type": "code",
   "execution_count": 2,
   "metadata": {},
   "outputs": [],
   "source": [
    "(X_train, y_train), (X_test, y_test) = boston_housing.load_data()"
   ]
  },
  {
   "cell_type": "code",
   "execution_count": 21,
   "metadata": {},
   "outputs": [],
   "source": [
    "scaler = scaler.fit(X_train)\n",
    "X_train = scaler.transform(X_train)\n",
    "X_test = scaler.transform(X_test)"
   ]
  },
  {
   "cell_type": "code",
   "execution_count": 24,
   "metadata": {},
   "outputs": [
    {
     "data": {
      "text/plain": [
       "(404, 13)"
      ]
     },
     "execution_count": 24,
     "metadata": {},
     "output_type": "execute_result"
    }
   ],
   "source": [
    "X_train.shape"
   ]
  },
  {
   "cell_type": "code",
   "execution_count": 26,
   "metadata": {},
   "outputs": [],
   "source": [
    "def build_model():\n",
    "    model = models.Sequential()\n",
    "    model.add(layers.Dense(64, activation='relu', input_shape=(X_train.shape[1],)))\n",
    "    model.add(layers.Dense(64, activation='relu'))\n",
    "    model.add(layers.Dense(1))\n",
    "    model.compile(optimizer='rmsprop', loss='mse', metrics=['mae'])\n",
    "    return model"
   ]
  },
  {
   "cell_type": "code",
   "execution_count": 27,
   "metadata": {},
   "outputs": [],
   "source": [
    "k = 4\n",
    "num_val_samples = len(X_train)//k\n",
    "num_epochs = 100\n",
    "all_scores = []"
   ]
  },
  {
   "cell_type": "code",
   "execution_count": 30,
   "metadata": {},
   "outputs": [
    {
     "name": "stdout",
     "output_type": "stream",
     "text": [
      "processing fold # 0\n",
      "processing fold # 1\n",
      "processing fold # 2\n",
      "processing fold # 3\n"
     ]
    }
   ],
   "source": [
    "for i in range(k):\n",
    "    print ('processing fold #',i)\n",
    "    val_data = X_train[i*num_val_samples : (i + 1) * num_val_samples]\n",
    "    val_targets = y_train[i*num_val_samples : (i + 1) * num_val_samples]\n",
    "    \n",
    "    partial_X_train = np.concatenate(\n",
    "    [X_train[: i * num_val_samples],\n",
    "    X_train[(i +1) * num_val_samples:]], \n",
    "    axis = 0)\n",
    "    \n",
    "    partial_y_train = np.concatenate(\n",
    "    [y_train[: i * num_val_samples],\n",
    "    y_train[(i +1) * num_val_samples:]], \n",
    "    axis = 0)\n",
    "    \n",
    "    model = build_model()\n",
    "    model.fit(partial_X_train, partial_y_train, epochs=num_epochs, batch_size=1, verbose=0)\n",
    "    val_mse, val_mae = model.evaluate(val_data, val_targets, verbose=0)\n",
    "    all_scores.append(val_mae)"
   ]
  },
  {
   "cell_type": "code",
   "execution_count": 31,
   "metadata": {},
   "outputs": [
    {
     "data": {
      "text/plain": [
       "[2.0995344230444126, 2.1967529825644916, 2.8715450220768997, 2.25148605238093]"
      ]
     },
     "execution_count": 31,
     "metadata": {},
     "output_type": "execute_result"
    }
   ],
   "source": [
    "all_scores"
   ]
  },
  {
   "cell_type": "code",
   "execution_count": 32,
   "metadata": {},
   "outputs": [
    {
     "data": {
      "text/plain": [
       "2.3548296200166834"
      ]
     },
     "execution_count": 32,
     "metadata": {},
     "output_type": "execute_result"
    }
   ],
   "source": [
    "np.mean(all_scores)"
   ]
  },
  {
   "cell_type": "code",
   "execution_count": 33,
   "metadata": {},
   "outputs": [
    {
     "name": "stdout",
     "output_type": "stream",
     "text": [
      "processing fold # 0\n",
      "processing fold # 1\n",
      "processing fold # 2\n",
      "processing fold # 3\n"
     ]
    }
   ],
   "source": [
    "num_epochs = 500\n",
    "all_mae_histories = []\n",
    "\n",
    "for i in range(k):\n",
    "    print ('processing fold #',i)\n",
    "    val_data = X_train[i*num_val_samples : (i + 1) * num_val_samples]\n",
    "    val_targets = y_train[i*num_val_samples : (i + 1) * num_val_samples]\n",
    "    \n",
    "    partial_X_train = np.concatenate(\n",
    "    [X_train[: i * num_val_samples],\n",
    "    X_train[(i +1) * num_val_samples:]], \n",
    "    axis = 0)\n",
    "    \n",
    "    partial_y_train = np.concatenate(\n",
    "    [y_train[: i * num_val_samples],\n",
    "    y_train[(i +1) * num_val_samples:]], \n",
    "    axis = 0)\n",
    "    \n",
    "    model = build_model()\n",
    "    history = model.fit(partial_X_train, partial_y_train,\n",
    "                        validation_data=(val_data, val_targets),\n",
    "                        epochs=num_epochs, batch_size=1, verbose=0)\n",
    "    mae_history=history.history['val_mean_absolute_error']\n",
    "    all_mae_histories.append(mae_history)"
   ]
  },
  {
   "cell_type": "code",
   "execution_count": 34,
   "metadata": {},
   "outputs": [
    {
     "data": {
      "text/plain": [
       "(4, 500)"
      ]
     },
     "execution_count": 34,
     "metadata": {},
     "output_type": "execute_result"
    }
   ],
   "source": [
    "np.array(all_mae_histories).shape"
   ]
  },
  {
   "cell_type": "code",
   "execution_count": 35,
   "metadata": {},
   "outputs": [],
   "source": [
    "def smooth_curve(points, factor=.9):\n",
    "    smoothed_points = []\n",
    "    for point in points:\n",
    "        if smoothed_points:\n",
    "            previous = smoothed_points[-1]\n",
    "            smoothed_points.append(previous*factor + point * (1-factor))\n",
    "        else:\n",
    "            smoothed_points.append(point)\n",
    "    return smoothed_points"
   ]
  },
  {
   "cell_type": "code",
   "execution_count": 39,
   "metadata": {},
   "outputs": [],
   "source": [
    "def plot_smoothed_mae(all_mae_history, ax):\n",
    "    all_mae_history = np.array(all_mae_history)\n",
    "    average_mae_history = [np.mean([x[i] for x in all_mae_histories]) for i in range(all_mae_history.shape[1])]\n",
    "    smooth_mae_history = smooth_curve(average_mae_history[10:])\n",
    "    ax.plot(range(1,len(smooth_mae_history)+1), smooth_mae_history)\n",
    "    ax.set_title('Smoothed Validation MAE')\n",
    "    ax.set_xlabel('Epochs')\n",
    "    ax.set_ylabel('Validation MAE')"
   ]
  },
  {
   "cell_type": "code",
   "execution_count": 40,
   "metadata": {},
   "outputs": [
    {
     "data": {
      "image/png": "[encoded data removed]",
      "text/plain": [
       "<Figure size 432x288 with 1 Axes>"
      ]
     },
     "metadata": {
      "needs_background": "light"
     },
     "output_type": "display_data"
    }
   ],
   "source": [
    "fig, ax = plt.subplots()\n",
    "plot_smoothed_mae(all_mae_histories,ax)\n",
    "plt.show()"
   ]
  },
  {
   "cell_type": "code",
   "execution_count": 41,
   "metadata": {},
   "outputs": [
    {
     "name": "stdout",
     "output_type": "stream",
     "text": [
      "Epoch 1/50\n",
      "404/404 [==============================] - 1s 2ms/step - loss: 147.2487 - mean_absolute_error: 8.8028\n",
      "Epoch 2/50\n",
      "404/404 [==============================] - 0s 761us/step - loss: 25.3936 - mean_absolute_error: 3.5884\n",
      "Epoch 3/50\n",
      "404/404 [==============================] - 0s 763us/step - loss: 19.0843 - mean_absolute_error: 2.9665\n",
      "Epoch 4/50\n",
      "404/404 [==============================] - 0s 755us/step - loss: 15.5492 - mean_absolute_error: 2.6613\n",
      "Epoch 5/50\n",
      "404/404 [==============================] - 0s 809us/step - loss: 13.7755 - mean_absolute_error: 2.4348\n",
      "Epoch 6/50\n",
      "404/404 [==============================] - 0s 788us/step - loss: 12.3156 - mean_absolute_error: 2.4283\n",
      "Epoch 7/50\n",
      "404/404 [==============================] - 0s 806us/step - loss: 11.4438 - mean_absolute_error: 2.2875\n",
      "Epoch 8/50\n",
      "404/404 [==============================] - 0s 794us/step - loss: 10.6234 - mean_absolute_error: 2.2182\n",
      "Epoch 9/50\n",
      "404/404 [==============================] - 0s 762us/step - loss: 10.1737 - mean_absolute_error: 2.2360\n",
      "Epoch 10/50\n",
      "404/404 [==============================] - 0s 773us/step - loss: 10.7889 - mean_absolute_error: 2.2006\n",
      "Epoch 11/50\n",
      "404/404 [==============================] - 0s 759us/step - loss: 9.8831 - mean_absolute_error: 2.1798\n",
      "Epoch 12/50\n",
      "404/404 [==============================] - 0s 830us/step - loss: 9.3187 - mean_absolute_error: 2.1128\n",
      "Epoch 13/50\n",
      "404/404 [==============================] - 0s 856us/step - loss: 9.6932 - mean_absolute_error: 2.1262\n",
      "Epoch 14/50\n",
      "404/404 [==============================] - 0s 840us/step - loss: 9.3665 - mean_absolute_error: 2.0979\n",
      "Epoch 15/50\n",
      "404/404 [==============================] - 0s 777us/step - loss: 9.1566 - mean_absolute_error: 2.0195\n",
      "Epoch 16/50\n",
      "404/404 [==============================] - 0s 802us/step - loss: 8.6076 - mean_absolute_error: 2.0247\n",
      "Epoch 17/50\n",
      "404/404 [==============================] - 0s 779us/step - loss: 9.3542 - mean_absolute_error: 1.9993\n",
      "Epoch 18/50\n",
      "404/404 [==============================] - 0s 848us/step - loss: 8.5254 - mean_absolute_error: 2.0239\n",
      "Epoch 19/50\n",
      "404/404 [==============================] - 0s 871us/step - loss: 8.4416 - mean_absolute_error: 1.9673\n",
      "Epoch 20/50\n",
      "404/404 [==============================] - 0s 804us/step - loss: 8.6027 - mean_absolute_error: 2.0047\n",
      "Epoch 21/50\n",
      "404/404 [==============================] - 0s 801us/step - loss: 8.3939 - mean_absolute_error: 1.9712\n",
      "Epoch 22/50\n",
      "404/404 [==============================] - 0s 821us/step - loss: 8.0454 - mean_absolute_error: 1.9267\n",
      "Epoch 23/50\n",
      "404/404 [==============================] - 0s 835us/step - loss: 8.0292 - mean_absolute_error: 1.9378\n",
      "Epoch 24/50\n",
      "404/404 [==============================] - 0s 816us/step - loss: 8.2261 - mean_absolute_error: 1.9158\n",
      "Epoch 25/50\n",
      "404/404 [==============================] - 0s 840us/step - loss: 7.8246 - mean_absolute_error: 1.9051\n",
      "Epoch 26/50\n",
      "404/404 [==============================] - 0s 859us/step - loss: 7.7415 - mean_absolute_error: 1.8825\n",
      "Epoch 27/50\n",
      "404/404 [==============================] - 0s 816us/step - loss: 7.6288 - mean_absolute_error: 1.8138\n",
      "Epoch 28/50\n",
      "404/404 [==============================] - 0s 828us/step - loss: 7.7384 - mean_absolute_error: 1.8739\n",
      "Epoch 29/50\n",
      "404/404 [==============================] - 0s 871us/step - loss: 7.6163 - mean_absolute_error: 1.8686\n",
      "Epoch 30/50\n",
      "404/404 [==============================] - 0s 817us/step - loss: 7.7026 - mean_absolute_error: 1.8833\n",
      "Epoch 31/50\n",
      "404/404 [==============================] - 0s 806us/step - loss: 7.3030 - mean_absolute_error: 1.8613\n",
      "Epoch 32/50\n",
      "404/404 [==============================] - 0s 867us/step - loss: 7.1793 - mean_absolute_error: 1.8029\n",
      "Epoch 33/50\n",
      "404/404 [==============================] - 0s 821us/step - loss: 7.3489 - mean_absolute_error: 1.8008\n",
      "Epoch 34/50\n",
      "404/404 [==============================] - 0s 763us/step - loss: 7.2540 - mean_absolute_error: 1.8141\n",
      "Epoch 35/50\n",
      "404/404 [==============================] - 0s 816us/step - loss: 6.9504 - mean_absolute_error: 1.7962\n",
      "Epoch 36/50\n",
      "404/404 [==============================] - 0s 827us/step - loss: 6.8839 - mean_absolute_error: 1.7283\n",
      "Epoch 37/50\n",
      "404/404 [==============================] - 0s 823us/step - loss: 7.2004 - mean_absolute_error: 1.8242\n",
      "Epoch 38/50\n",
      "404/404 [==============================] - 0s 810us/step - loss: 6.6943 - mean_absolute_error: 1.8250\n",
      "Epoch 39/50\n",
      "404/404 [==============================] - 0s 865us/step - loss: 6.9011 - mean_absolute_error: 1.7531\n",
      "Epoch 40/50\n",
      "404/404 [==============================] - 0s 802us/step - loss: 6.5933 - mean_absolute_error: 1.7541\n",
      "Epoch 41/50\n",
      "404/404 [==============================] - 0s 815us/step - loss: 6.3268 - mean_absolute_error: 1.7377\n",
      "Epoch 42/50\n",
      "404/404 [==============================] - 0s 807us/step - loss: 6.7837 - mean_absolute_error: 1.7669\n",
      "Epoch 43/50\n",
      "404/404 [==============================] - 0s 828us/step - loss: 6.7580 - mean_absolute_error: 1.7411\n",
      "Epoch 44/50\n",
      "404/404 [==============================] - 0s 832us/step - loss: 6.6762 - mean_absolute_error: 1.6785\n",
      "Epoch 45/50\n",
      "404/404 [==============================] - 0s 837us/step - loss: 6.6415 - mean_absolute_error: 1.7004\n",
      "Epoch 46/50\n",
      "404/404 [==============================] - 0s 854us/step - loss: 6.6046 - mean_absolute_error: 1.6913\n",
      "Epoch 47/50\n",
      "404/404 [==============================] - 0s 807us/step - loss: 6.1535 - mean_absolute_error: 1.7161\n",
      "Epoch 48/50\n",
      "404/404 [==============================] - 0s 808us/step - loss: 6.5562 - mean_absolute_error: 1.6950\n",
      "Epoch 49/50\n",
      "404/404 [==============================] - 0s 824us/step - loss: 6.3029 - mean_absolute_error: 1.6436\n",
      "Epoch 50/50\n",
      "404/404 [==============================] - 0s 811us/step - loss: 6.1555 - mean_absolute_error: 1.6365\n",
      "102/102 [==============================] - 0s 835us/step\n"
     ]
    }
   ],
   "source": [
    "model = build_model()\n",
    "model.fit(X_train, y_train, epochs=50, batch_size=1)\n",
    "test_mse, test_mae = model.evaluate(X_test, y_test)"
   ]
  },
  {
   "cell_type": "code",
   "execution_count": 42,
   "metadata": {},
   "outputs": [
    {
     "data": {
      "text/plain": [
       "2.376933340932809"
      ]
     },
     "execution_count": 42,
     "metadata": {},
     "output_type": "execute_result"
    }
   ],
   "source": [
    "test_mae"
   ]
  },
  {
   "cell_type": "code",
   "execution_count": 43,
   "metadata": {},
   "outputs": [
    {
     "data": {
      "text/plain": [
       "15.711417254279642"
      ]
     },
     "execution_count": 43,
     "metadata": {},
     "output_type": "execute_result"
    }
   ],
   "source": [
    "test_mse"
   ]
  },
  {
   "cell_type": "code",
   "execution_count": null,
   "metadata": {},
   "outputs": [],
   "source": []
  }
 ],
 "metadata": {
  "kernelspec": {
   "display_name": "Python 3",
   "language": "python",
   "name": "python3"
  },
  "language_info": {
   "codemirror_mode": {
    "name": "ipython",
    "version": 3
   },
   "file_extension": ".py",
   "mimetype": "text/x-python",
   "name": "python",
   "nbconvert_exporter": "python",
   "pygments_lexer": "ipython3",
   "version": "3.6.7"
  }
 },
 "nbformat": 4,
 "nbformat_minor": 2
}
